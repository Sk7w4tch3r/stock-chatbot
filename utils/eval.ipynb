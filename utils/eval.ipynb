{
 "cells": [
  {
   "cell_type": "code",
   "execution_count": 8,
   "metadata": {},
   "outputs": [],
   "source": [
    "from read_ds import read_qa, c2dict\n",
    "\n",
    "dataset = read_qa('..\\..\\dataset\\Stock-QA.json')\n",
    "dataset = c2dict(dataset)\n",
    "questions, contexts, answers = dataset['question'], dataset['context'], dataset['answers']"
   ]
  },
  {
   "cell_type": "code",
   "execution_count": 11,
   "metadata": {},
   "outputs": [],
   "source": [
    "if 133%1!=0:\n",
    "    print('shit')"
   ]
  }
 ],
 "metadata": {
  "kernelspec": {
   "display_name": "Python 3.9.5 64-bit",
   "language": "python",
   "name": "python3"
  },
  "language_info": {
   "codemirror_mode": {
    "name": "ipython",
    "version": 3
   },
   "file_extension": ".py",
   "mimetype": "text/x-python",
   "name": "python",
   "nbconvert_exporter": "python",
   "pygments_lexer": "ipython3",
   "version": "3.9.5"
  },
  "orig_nbformat": 4,
  "vscode": {
   "interpreter": {
    "hash": "3dd3afdaa2d7c527387e65eae81b188f37ddbd4e5f11fe249bee13c396481ff1"
   }
  }
 },
 "nbformat": 4,
 "nbformat_minor": 2
}
